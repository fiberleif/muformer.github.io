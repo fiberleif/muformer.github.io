{
 "cells": [
  {
   "cell_type": "code",
   "execution_count": 2,
   "id": "a478f5ed-f802-4c1f-8034-7a5f7806fa6c",
   "metadata": {},
   "outputs": [],
   "source": [
    "%reload_ext autoreload\n",
    "%autoreload 2"
   ]
  },
  {
   "cell_type": "code",
   "execution_count": 3,
   "id": "7a44b790-7342-401d-b85a-5c23bc8dae7d",
   "metadata": {},
   "outputs": [],
   "source": [
    "import pandas as pd\n",
    "import numpy as np"
   ]
  },
  {
   "cell_type": "markdown",
   "id": "b37bd2aa-b8d7-43ee-b845-06b98eaab0f1",
   "metadata": {},
   "source": [
    "# Process"
   ]
  },
  {
   "cell_type": "markdown",
   "id": "d9a2162c-34a3-404a-a3d1-2692ec79fa7e",
   "metadata": {},
   "source": [
    "## subset: 2~5 mutations only"
   ]
  },
  {
   "cell_type": "code",
   "execution_count": 26,
   "id": "c91441ca-89f7-4d5f-a04b-8f94d2fe1fc8",
   "metadata": {},
   "outputs": [],
   "source": [
    "prediction = pd.read_table('/home/v-tianbopeng/project/muformer-demo/assets/tables/predictions/aav_less5.tsv')"
   ]
  },
  {
   "cell_type": "code",
   "execution_count": 34,
   "id": "97ffef32-e4f3-4bc4-bb58-60c6fcce4921",
   "metadata": {},
   "outputs": [],
   "source": [
    "# subset = prediction.loc[prediction.pos.apply(lambda x: x.count(',')<=5), :]\n",
    "subset = prediction.loc[prediction.pos.apply(lambda x: x.count(',')==1), :].copy()"
   ]
  },
  {
   "cell_type": "code",
   "execution_count": 11,
   "id": "525c52dc-ba7a-4914-93d5-ca6d052d2cd1",
   "metadata": {},
   "outputs": [],
   "source": [
    "subset.to_csv('/home/v-tianbopeng/project/muformer-demo/assets/predictions/aav_less5.tsv', sep='\\t', index=False)"
   ]
  },
  {
   "cell_type": "markdown",
   "id": "61752f71-76d9-4256-a6e2-d36ab7dccd61",
   "metadata": {},
   "source": [
    "## data for surface plot"
   ]
  },
  {
   "cell_type": "markdown",
   "id": "4ef4e253-eb37-462c-b0f8-cb5c8b75a6a9",
   "metadata": {},
   "source": [
    "**load**"
   ]
  },
  {
   "cell_type": "code",
   "execution_count": 4,
   "id": "5df47206-fd9d-41da-891f-030948d88bc0",
   "metadata": {},
   "outputs": [],
   "source": [
    "prediction = pd.read_table('/home/v-tianbopeng/project/muformer-demo/assets/tables/predictions/tem.tsv')"
   ]
  },
  {
   "cell_type": "markdown",
   "id": "fce67904-93fa-4b7b-b4a2-4fcc9f16279f",
   "metadata": {},
   "source": [
    "**subset**"
   ]
  },
  {
   "cell_type": "code",
   "execution_count": 5,
   "id": "9dec7623-f004-4af7-9e7b-529f23343252",
   "metadata": {},
   "outputs": [],
   "source": [
    "# subset = prediction.loc[prediction.pos.apply(lambda x: x.count(',')<=5), :]\n",
    "subset = prediction.loc[prediction.pos.apply(lambda x: x.count(',')==1), :].copy()"
   ]
  },
  {
   "cell_type": "code",
   "execution_count": 6,
   "id": "55cf0c1d-1e87-4957-a522-3505a77325ed",
   "metadata": {},
   "outputs": [],
   "source": [
    "subset.loc[:, 'x'] = subset.pos.apply(lambda x: int(x.split(',')[0]))\n",
    "subset.loc[:, 'y'] = subset.pos.apply(lambda x: int(x.split(',')[1]))"
   ]
  },
  {
   "cell_type": "markdown",
   "id": "24ae1c22-2c39-4f31-9550-6cbe49b4cdb2",
   "metadata": {},
   "source": [
    "**pivot**"
   ]
  },
  {
   "cell_type": "code",
   "execution_count": 7,
   "id": "396dcf9d-ad1b-45a0-9eb9-c6f143a9bc93",
   "metadata": {},
   "outputs": [],
   "source": [
    "mean_score = subset.groupby(['x', 'y']).score.mean().reset_index().rename(columns={'score': 'mean_score'})\n",
    "mean_pred = subset.groupby(['x', 'y']).prediction.mean().reset_index().rename(columns={'prediction': 'mean_prediction'})"
   ]
  },
  {
   "cell_type": "code",
   "execution_count": 8,
   "id": "694ab068-730d-48d5-95ee-270b50a64516",
   "metadata": {},
   "outputs": [],
   "source": [
    "pivot_score = mean_score.pivot('x', 'y', 'mean_score')\n",
    "pivot_pred = mean_pred.pivot('x', 'y', 'mean_prediction')"
   ]
  },
  {
   "cell_type": "code",
   "execution_count": 60,
   "id": "e5ef1d8b-bac1-422f-85d9-aedf9b29de79",
   "metadata": {},
   "outputs": [],
   "source": [
    "pivot_score.loc[588, :] = np.nan\n",
    "pivot_score.loc[:, 561] = np.nan\n",
    "pivot_score = pivot_score.loc[:, pivot_score.columns.sort_values()]\n",
    "pivot_pred.loc[588, :] = np.nan\n",
    "pivot_pred.loc[:, 561] = np.nan\n",
    "pivot_pred = pivot_pred.loc[:, pivot_pred.columns.sort_values()]"
   ]
  },
  {
   "cell_type": "markdown",
   "id": "8d0a5f9e-6b3a-4a8e-9c9c-bc9ecf35d0b3",
   "metadata": {},
   "source": [
    "**add reverse**"
   ]
  },
  {
   "cell_type": "code",
   "execution_count": 64,
   "id": "ee0597ee-8be2-41cf-8d59-d0e8fd9794fd",
   "metadata": {},
   "outputs": [],
   "source": [
    "complete_score = pivot_score.fillna(0) + pivot_score.T.fillna(0)\n",
    "complete_pred = pivot_pred.fillna(0) + pivot_pred.T.fillna(0)"
   ]
  },
  {
   "cell_type": "code",
   "execution_count": 67,
   "id": "c5875741-1403-477b-b077-cb6c3023f4a3",
   "metadata": {},
   "outputs": [],
   "source": [
    "complete_pred.replace(0, np.nan, inplace=True)\n",
    "complete_score.replace(0, np.nan, inplace=True)"
   ]
  },
  {
   "cell_type": "markdown",
   "id": "84f8275f-aafb-4530-9bb5-a9d4d6de9590",
   "metadata": {},
   "source": [
    "**save**"
   ]
  },
  {
   "cell_type": "code",
   "execution_count": 68,
   "id": "1e0ae390-d18f-4114-be09-2f39177bc2fc",
   "metadata": {},
   "outputs": [],
   "source": [
    "complete_score.to_csv('/home/v-tianbopeng/project/muformer-demo/assets/tables/plotdata/aav_less5_score.tsv', sep='\\t')\n",
    "complete_pred.to_csv('/home/v-tianbopeng/project/muformer-demo/assets/tables/plotdata/aav_less5_pred.tsv', sep='\\t')"
   ]
  },
  {
   "cell_type": "markdown",
   "id": "5629c895-ed30-410d-bb50-ca5a9f527f20",
   "metadata": {},
   "source": [
    "## possible mutations"
   ]
  },
  {
   "cell_type": "code",
   "execution_count": 26,
   "id": "75399208-40d4-4a02-a0d6-b7336b1c94c8",
   "metadata": {},
   "outputs": [],
   "source": [
    "prediction = pd.read_table('/home/v-tianbopeng/project/muformer-demo/assets/tables/predictions/aav_less5.tsv')"
   ]
  },
  {
   "cell_type": "code",
   "execution_count": 25,
   "id": "72a48b7d-bc61-40f2-b8d6-b4064bccec5d",
   "metadata": {},
   "outputs": [],
   "source": [
    "prediction.mutant.str.split(',', expand=True).stack().reset_index(drop=True).drop_duplicates().sort_values().to_frame('mutation').to_csv('/home/v-tianbopeng/project/muformer-demo/assets/tables/mutations/tem_less5_mutations.tsv', sep='\\t', index=False)"
   ]
  }
 ],
 "metadata": {
  "kernelspec": {
   "display_name": "bindpredict",
   "language": "python",
   "name": "bindpredict"
  },
  "language_info": {
   "codemirror_mode": {
    "name": "ipython",
    "version": 3
   },
   "file_extension": ".py",
   "mimetype": "text/x-python",
   "name": "python",
   "nbconvert_exporter": "python",
   "pygments_lexer": "ipython3",
   "version": "3.9.13"
  }
 },
 "nbformat": 4,
 "nbformat_minor": 5
}
